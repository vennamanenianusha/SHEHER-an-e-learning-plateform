{
  "nbformat": 4,
  "nbformat_minor": 0,
  "metadata": {
    "colab": {
      "name": "content_filtering.ipynb",
      "provenance": []
    },
    "kernelspec": {
      "name": "python3",
      "display_name": "Python 3"
    },
    "language_info": {
      "name": "python"
    }
  },
  "cells": [
    {
      "cell_type": "code",
      "execution_count": null,
      "metadata": {
        "id": "xho4DKMlsDQJ"
      },
      "outputs": [],
      "source": [
        "import numpy as np\n",
        "import pandas as pd\n",
        "from sklearn.metrics.pairwise import cosine_similarity\n",
        "from sklearn.metrics import mean_squared_error\n",
        "from sklearn.model_selection import train_test_split\n",
        "from sklearn.feature_extraction.text import TfidfVectorizer\n",
        "from sklearn.metrics.pairwise import linear_kernel\n",
        "movies = pd.read_csv('rating.csv')\n",
        "print(movies.head())"
      ]
    },
    {
      "cell_type": "code",
      "source": [
        "tfidf = TfidfVectorizer(stop_words='english')\n",
        "movies['overview'] = movies['overview'].fillna('')\n",
        "overview_matrix = tfidf.fit_transform(movies['overview'])\n",
        "similarity_matrix = linear_kernel(overview_matrix,overview_matrix)\n",
        "mapping = pd.Series(movies.index,index = movies['title'])\n",
        "print(mapping)"
      ],
      "metadata": {
        "id": "kNq_1Y42sT6S"
      },
      "execution_count": null,
      "outputs": []
    },
    {
      "cell_type": "code",
      "source": [
        "def recommend_movies(movie_input):\n",
        "    movie_index = mapping[movie_input]\n",
        "    similarity_score = list(enumerate(similarity_matrix[movie_index]))\n",
        "    similarity_score = sorted(similarity_score, key=lambda x: x[1], reverse=True)\n",
        "    similarity_score = similarity_score[1:15]\n",
        "    movie_indices = [i[0] for i in similarity_score]\n",
        "    return (movies['title'].iloc[movie_indices])\n",
        "\n",
        "print(recommend_movies('Life Begins for Andy Hardy'))"
      ],
      "metadata": {
        "id": "33tL8OHbsUAf"
      },
      "execution_count": null,
      "outputs": []
    }
  ]
}